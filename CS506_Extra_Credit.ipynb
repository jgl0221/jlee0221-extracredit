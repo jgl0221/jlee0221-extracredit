{
  "cells": [
    {
      "cell_type": "code",
      "execution_count": 21,
      "metadata": {
        "colab": {
          "base_uri": "https://localhost:8080/"
        },
        "id": "Ejm79crIrcyK",
        "outputId": "b796c375-0f52-4960-d2d6-1b9dde7fc1b8"
      },
      "outputs": [
        {
          "output_type": "stream",
          "name": "stdout",
          "text": [
            "[LightGBM] [Info] Number of positive: 33750, number of negative: 262812\n",
            "[LightGBM] [Info] Auto-choosing col-wise multi-threading, the overhead of testing was 0.085349 seconds.\n",
            "You can set `force_col_wise=true` to remove the overhead.\n",
            "[LightGBM] [Info] Total Bins 2738\n",
            "[LightGBM] [Info] Number of data points in the train set: 296562, number of used features: 16\n",
            "[LightGBM] [Info] [binary:BoostFromScore]: pavg=0.113804 -> initscore=-2.052459\n",
            "[LightGBM] [Info] Start training from score -2.052459\n",
            "F1 Score: 0.973172327642615\n",
            "Classification Report:\n",
            "              precision    recall  f1-score   support\n",
            "\n",
            "           0       0.99      1.00      1.00     65592\n",
            "           1       0.99      0.96      0.97      8549\n",
            "\n",
            "    accuracy                           0.99     74141\n",
            "   macro avg       0.99      0.98      0.98     74141\n",
            "weighted avg       0.99      0.99      0.99     74141\n",
            "\n",
            "Submission file 'submission.csv' created successfully!\n"
          ]
        }
      ],
      "source": [
        "import pandas as pd\n",
        "import numpy as np\n",
        "from sklearn.preprocessing import LabelEncoder, StandardScaler\n",
        "from geopy.distance import geodesic\n",
        "from sklearn.model_selection import train_test_split\n",
        "from lightgbm import LGBMClassifier\n",
        "from sklearn.metrics import f1_score, classification_report\n",
        "\n",
        "# Step 1: Load the data\n",
        "train = pd.read_csv(\"train.csv\")\n",
        "test = pd.read_csv(\"test.csv\")\n",
        "sample_submission = pd.read_csv(\"sample_submission.csv\")\n",
        "\n",
        "# Step 2: Feature Engineering\n",
        "train_copy = train.copy()\n",
        "test_copy = test.copy()\n",
        "\n",
        "# Extract day, month, and hour from date/time columns\n",
        "for df in [train_copy, test_copy]:\n",
        "    df['trans_date'] = pd.to_datetime(df['trans_date'], errors='coerce')\n",
        "    df['trans_time'] = pd.to_datetime(df['trans_time'], errors='coerce', format='%H:%M:%S').dt.hour\n",
        "    df['day'] = df['trans_date'].dt.day\n",
        "    df['month'] = df['trans_date'].dt.month\n",
        "    df['year'] = df['trans_date'].dt.year\n",
        "\n",
        "# Calculate age\n",
        "for df in [train_copy, test_copy]:\n",
        "    df['dob'] = pd.to_datetime(df['dob'], errors='coerce')\n",
        "    df['age'] = df['year'] - df['dob'].dt.year\n",
        "\n",
        "# Calculate distance between cardholder and merchant\n",
        "for df in [train_copy, test_copy]:\n",
        "    df['distance'] = df.apply(\n",
        "        lambda row: geodesic((row['lat'], row['long']), (row['merch_lat'], row['merch_long'])).km, axis=1\n",
        "    )\n",
        "\n",
        "# Encode categorical variables\n",
        "label_encoders = {}\n",
        "for col in ['category', 'state', 'gender', 'job']:\n",
        "    le = LabelEncoder()\n",
        "    le.fit(train_copy[col].fillna('Unknown'))\n",
        "    train_copy[col] = le.transform(train_copy[col].fillna('Unknown'))\n",
        "    test_copy[col] = le.transform(test_copy[col].fillna('Unknown'))\n",
        "    label_encoders[col] = le\n",
        "\n",
        "# Drop unnecessary columns\n",
        "columns_to_drop = ['trans_num', 'trans_date', 'cc_num', 'first', 'last', 'street', 'city', 'zip', 'dob', 'merchant']\n",
        "train_copy = train_copy.drop(columns=columns_to_drop)\n",
        "test_copy = test_copy.drop(columns=columns_to_drop)\n",
        "\n",
        "# Step 3: Train-Test Split\n",
        "X = train_copy.drop(columns=['is_fraud'])\n",
        "y = train_copy['is_fraud']\n",
        "X_train, X_valid, y_train, y_valid = train_test_split(X, y, test_size=0.2, random_state=42)\n",
        "\n",
        "# Step 4: Feature Scaling\n",
        "scaler = StandardScaler()\n",
        "numerical_cols = ['amt', 'distance', 'age']\n",
        "X_train[numerical_cols] = scaler.fit_transform(X_train[numerical_cols])\n",
        "X_valid[numerical_cols] = scaler.transform(X_valid[numerical_cols])\n",
        "test_copy[numerical_cols] = scaler.transform(test_copy[numerical_cols])\n",
        "\n",
        "# Step 5: Model Training with LightGBM\n",
        "model = LGBMClassifier(random_state=42)\n",
        "model.fit(X_train, y_train)\n",
        "\n",
        "# Step 6: Validate the Model\n",
        "y_pred = model.predict(X_valid)\n",
        "print(\"F1 Score:\", f1_score(y_valid, y_pred))\n",
        "print(\"Classification Report:\")\n",
        "print(classification_report(y_valid, y_pred))\n",
        "\n",
        "# Step 7: Make Predictions on Test Data\n",
        "test_predictions = model.predict(test_copy)\n",
        "\n",
        "# Step 8: Create Submission File\n",
        "submission = sample_submission.copy()\n",
        "submission['is_fraud'] = test_predictions\n",
        "submission.to_csv(\"submission.csv\", index=False)\n",
        "print(\"Submission file 'submission.csv' created successfully!\")\n"
      ]
    }
  ],
  "metadata": {
    "colab": {
      "provenance": []
    },
    "kernelspec": {
      "display_name": "Python 3",
      "name": "python3"
    },
    "language_info": {
      "name": "python"
    }
  },
  "nbformat": 4,
  "nbformat_minor": 0
}